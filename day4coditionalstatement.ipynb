{
 "cells": [
  {
   "cell_type": "code",
   "execution_count": 1,
   "metadata": {},
   "outputs": [],
   "source": [
    "records = {\n",
    "    'Name':'Simeon',\n",
    "    'Gender':'Male',\n",
    "    'Age':45,\n",
    "    'Height':1.80,\n",
    "    'Weight':75\n",
    "}"
   ]
  },
  {
   "cell_type": "code",
   "execution_count": 2,
   "metadata": {},
   "outputs": [
    {
     "data": {
      "text/plain": [
       "45"
      ]
     },
     "execution_count": 2,
     "metadata": {},
     "output_type": "execute_result"
    }
   ],
   "source": [
    "records['Age']"
   ]
  },
  {
   "cell_type": "code",
   "execution_count": 3,
   "metadata": {},
   "outputs": [
    {
     "data": {
      "text/plain": [
       "dict_keys(['Name', 'Gender', 'Age', 'Height', 'Weight'])"
      ]
     },
     "execution_count": 3,
     "metadata": {},
     "output_type": "execute_result"
    }
   ],
   "source": [
    "records.keys()"
   ]
  },
  {
   "cell_type": "code",
   "execution_count": 4,
   "metadata": {},
   "outputs": [
    {
     "data": {
      "text/plain": [
       "dict_values(['Simeon', 'Male', 45, 1.8, 75])"
      ]
     },
     "execution_count": 4,
     "metadata": {},
     "output_type": "execute_result"
    }
   ],
   "source": [
    "records.values()"
   ]
  },
  {
   "cell_type": "code",
   "execution_count": 5,
   "metadata": {},
   "outputs": [
    {
     "data": {
      "text/plain": [
       "dict_items([('Name', 'Simeon'), ('Gender', 'Male'), ('Age', 45), ('Height', 1.8), ('Weight', 75)])"
      ]
     },
     "execution_count": 5,
     "metadata": {},
     "output_type": "execute_result"
    }
   ],
   "source": [
    "records.items()"
   ]
  },
  {
   "cell_type": "code",
   "execution_count": 6,
   "metadata": {},
   "outputs": [],
   "source": [
    "r = {'Height':1.82}\n",
    "records.update(r)"
   ]
  },
  {
   "cell_type": "code",
   "execution_count": 7,
   "metadata": {},
   "outputs": [
    {
     "name": "stdout",
     "output_type": "stream",
     "text": [
      "{'Name': 'Simeon', 'Gender': 'Male', 'Age': 45, 'Height': 1.82, 'Weight': 75}\n"
     ]
    }
   ],
   "source": [
    "print(records)"
   ]
  },
  {
   "cell_type": "code",
   "execution_count": 15,
   "metadata": {},
   "outputs": [
    {
     "data": {
      "text/plain": [
       "('Weight', 75)"
      ]
     },
     "execution_count": 15,
     "metadata": {},
     "output_type": "execute_result"
    }
   ],
   "source": [
    "records.popitem()"
   ]
  },
  {
   "cell_type": "code",
   "execution_count": 9,
   "metadata": {},
   "outputs": [],
   "source": [
    "family = {\n",
    "    'firstchild' :['Ojo Akin', 'Male',35,1.90,85],\n",
    "    'secondchild' :['Mary Akin', 'Female',27,1.70,80],\n",
    "    'thirdchild' :['Rose Akin', 'Female',22,1.80,70]\n",
    "}"
   ]
  },
  {
   "cell_type": "code",
   "execution_count": 10,
   "metadata": {},
   "outputs": [],
   "source": [
    "family['firstchild'][3] = 1.95"
   ]
  },
  {
   "cell_type": "code",
   "execution_count": 11,
   "metadata": {},
   "outputs": [
    {
     "name": "stdout",
     "output_type": "stream",
     "text": [
      "{'firstchild': ['Ojo Akin', 'Male', 35, 1.95, 85], 'secondchild': ['Mary Akin', 'Female', 27, 1.7, 80], 'thirdchild': ['Rose Akin', 'Female', 22, 1.8, 70]}\n"
     ]
    }
   ],
   "source": [
    "print(family)"
   ]
  },
  {
   "cell_type": "code",
   "execution_count": 1,
   "metadata": {},
   "outputs": [],
   "source": [
    "num = 5\n",
    "if num >10:\n",
    "    print(f'yes{num}is greather than 10')"
   ]
  },
  {
   "cell_type": "code",
   "execution_count": 13,
   "metadata": {},
   "outputs": [
    {
     "name": "stdout",
     "output_type": "stream",
     "text": [
      "oops5is less than 10\n"
     ]
    }
   ],
   "source": [
    "num = 5\n",
    "if num >10:\n",
    "    print(f'yes{num}is greather than 10')\n",
    "else:\n",
    "    print(f'oops{num}is less than 10')"
   ]
  },
  {
   "cell_type": "code",
   "execution_count": null,
   "metadata": {},
   "outputs": [],
   "source": [
    "speed = 70\n",
    "speed2 = float(input('Drivers\\s speed:'))\n",
    "if speed2<= speed:\n",
    "    print('on track keep it up')\n",
    "else:\n",
    "    speed3 = (speed2 - speed)//5\n",
    "    if speed3 <= 12:\n",
    "        print(f'You are above the speed limit point by {speed3}point, which is still ok bewarned')\n",
    "    else:\n",
    "        print(f'You are above the speed limit point by {speed3})point, which is above the leveled point, Lisence Suspended')"
   ]
  },
  {
   "cell_type": "code",
   "execution_count": 21,
   "metadata": {},
   "outputs": [
    {
     "name": "stdout",
     "output_type": "stream",
     "text": [
      "Drivers\\s speed:100\n",
      "You are above the speed limit point by 6.0point, which is still ok bewarned\n"
     ]
    }
   ],
   "source": [
    "speed = 70\n",
    "speed2 = float(input('Drivers\\s speed:'))\n",
    "speed3 = (speed2 - speed)// 5\n",
    "if speed2<= speed:\n",
    "    print('on track keep it up')\n",
    "elif speed3 <= 12:\n",
    "     print(f'You are above the speed limit point by {speed3}point, which is still ok bewarned')\n",
    "else:\n",
    "     print(f'You are above the speed limit point by {speed3})point, which is above the leveled point, Lisence Suspended')"
   ]
  },
  {
   "cell_type": "code",
   "execution_count": null,
   "metadata": {},
   "outputs": [],
   "source": [
    "print('WELCOME TO PRONET NALL')\n",
    "print('''1.EARLYCODE\n",
    "2. PARTIFAK\n",
    "3. LOUNGE\n",
    "4. THERKACOOL SHOWROOH\n",
    "5. BARBING''')\n",
    "choice = (int(input('please select which of the office you are heading to from the above list ')))\n",
    "if choice == 1:\n",
    "    print('welcome you will directed to earlycode') \n",
    "elif choice == 2:\n",
    "    print('welcoe to you will directed to partipak')\n",
    "elif choice == 3:\n",
    "    print('welcome you will directed to the lounge')\n",
    "elif choice ==4:\n",
    "    print('welcome you will directed to the thermacool showroom')\n",
    "elif choice == 5:\n",
    "    print('welcome you will directed to the barbing saloon')\n",
    "else:\n",
    "    print('invalid operation)\n",
    "  "
   ]
  }
 ],
 "metadata": {
  "kernelspec": {
   "display_name": "Python 3",
   "language": "python",
   "name": "python3"
  },
  "language_info": {
   "codemirror_mode": {
    "name": "ipython",
    "version": 3
   },
   "file_extension": ".py",
   "mimetype": "text/x-python",
   "name": "python",
   "nbconvert_exporter": "python",
   "pygments_lexer": "ipython3",
   "version": "3.8.5"
  }
 },
 "nbformat": 4,
 "nbformat_minor": 4
}
